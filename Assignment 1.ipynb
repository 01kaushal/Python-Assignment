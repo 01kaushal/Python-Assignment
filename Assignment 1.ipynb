{
 "cells": [
  {
   "cell_type": "markdown",
   "id": "9ebe82a4",
   "metadata": {},
   "source": [
    "### 1. In the below elements which of them are values or an expression?\n",
    "eg:- values can be integer or string and expression will be mathematical operation\n",
    " #### * ,  'hello' , -87.8 , - , / , + , 6\n",
    "**Ans**\n",
    "**Values**     :  6 , -87.8 , 'hello' \n",
    "\n",
    "**Expression** :   * ,  - , / , + "
   ]
  },
  {
   "cell_type": "markdown",
   "id": "5c9a134f",
   "metadata": {},
   "source": [
    "### 2.What is the difference between string and variable?"
   ]
  },
  {
   "cell_type": "markdown",
   "id": "abf05dce",
   "metadata": {},
   "source": [
    "**String**: A string is simply a series of characters. Anything inside quotes is considered a string in Python, and we can use single or double quotes around strings"
   ]
  },
  {
   "cell_type": "code",
   "execution_count": 4,
   "id": "254214be",
   "metadata": {},
   "outputs": [
    {
     "name": "stdout",
     "output_type": "stream",
     "text": [
      "kaushal kaumar\n"
     ]
    }
   ],
   "source": [
    "# eg:- \n",
    "string1=\"kaushal\"\n",
    "string2='kaumar'\n",
    "print(string1,string2)"
   ]
  },
  {
   "cell_type": "markdown",
   "id": "9c97ad5e",
   "metadata": {},
   "source": [
    "**Variable:** Variables are nothing but reserved memory locations to store values. This means that when we create a variable we reserve some space in memory"
   ]
  },
  {
   "cell_type": "code",
   "execution_count": 3,
   "id": "2d1722c4",
   "metadata": {},
   "outputs": [
    {
     "name": "stdout",
     "output_type": "stream",
     "text": [
      "1\n",
      "67\n"
     ]
    }
   ],
   "source": [
    "#eg:-\n",
    "var=1\n",
    "var2=67\n",
    "print(var)\n",
    "print(var2)"
   ]
  },
  {
   "cell_type": "markdown",
   "id": "02d93a31",
   "metadata": {},
   "source": [
    "### 3. Describe three different data types."
   ]
  },
  {
   "cell_type": "markdown",
   "id": "521ae91b",
   "metadata": {},
   "source": [
    "***Boolean***- Data type with one of the two built-in values, True or False. Boolean objects that are equal to True are truthy (true), and those equal to False are falsy (false). But non-Boolean objects can be evaluated in a Boolean context as well and determined to be true or false. It is denoted by the class bool. \n",
    "\n",
    "***Set***- In Python, a Set is an unordered collection of data types that is iterable, mutable and has no duplicate elements. The order of elements in a set is undefined though it may consist of various elements.\n",
    "\n",
    "***Dictionary***- A dictionary in Python is an unordered collection of data values, used to store data values like a map, unlike other Data Types that hold only a single value as an element, a Dictionary holds a key: value pair. Key-value is provided in the dictionary to make it more optimized. Each key-value pair in a Dictionary is separated by a colon : , whereas each key is separated by a ‘comma’."
   ]
  },
  {
   "cell_type": "code",
   "execution_count": 11,
   "id": "8a1184aa",
   "metadata": {},
   "outputs": [
    {
     "name": "stdout",
     "output_type": "stream",
     "text": [
      "<class 'bool'>\n",
      "<class 'bool'>\n",
      "('kaushal', 1, [2, 4, 5])\n",
      "('data science', 'salary', 400000)\n",
      "{'name': 'kaushal', 'roll': 23}\n"
     ]
    }
   ],
   "source": [
    "# eg Boolean\n",
    "print(type(True))\n",
    "print(type(False))\n",
    "\n",
    "#set\n",
    "set1=('kaushal',1,[2,4,5])\n",
    "set2=('data science','salary',400000)\n",
    "print(set1)\n",
    "print(set2)\n",
    "\n",
    "#Dictionary\n",
    "dic1={'name':'kaushal','roll':23}\n",
    "print(dic1)"
   ]
  },
  {
   "cell_type": "markdown",
   "id": "5ae31059",
   "metadata": {},
   "source": [
    "### 5. This assignment statements, like spam = 10. What is the difference between and expression and a statement?\n",
    "**ANS**\n",
    "\n",
    "The Main Differences Between an Expression and a Statement in Programming. ***Expressions can be assigned or used as operands, while statements can only be declared.*** \n",
    "\n",
    "**An expression evaluates to a single value. A statement does not.**"
   ]
  },
  {
   "cell_type": "markdown",
   "id": "ae947129",
   "metadata": {},
   "source": [
    "### 6. After running the following code, what does the variable bacon contain?\n",
    "**bacon = 22**\n",
    "\n",
    "**bacon + 1**\n",
    "\n",
    "**ANS**- The bacon value will 22 reamian same why becouse we are assigning only 22"
   ]
  },
  {
   "cell_type": "code",
   "execution_count": 13,
   "id": "9cf09874",
   "metadata": {},
   "outputs": [
    {
     "name": "stdout",
     "output_type": "stream",
     "text": [
      "22\n"
     ]
    }
   ],
   "source": [
    "bacon=22\n",
    "bacon+1\n",
    "print(bacon)"
   ]
  },
  {
   "cell_type": "markdown",
   "id": "f4f833dc",
   "metadata": {},
   "source": [
    "### 7. What should the values of the following two terms be?\n",
    "**'spam' + 'spamspam'**\n",
    "\n",
    "**'spam' * 3**\n",
    "\n",
    "**ANS**-  Both expressions evaluate to the string 'spamspamspam'\n"
   ]
  },
  {
   "cell_type": "code",
   "execution_count": 14,
   "id": "51fb485a",
   "metadata": {},
   "outputs": [
    {
     "data": {
      "text/plain": [
       "'spamspamspam'"
      ]
     },
     "execution_count": 14,
     "metadata": {},
     "output_type": "execute_result"
    }
   ],
   "source": [
    "'spam' + 'spamspam'\n",
    "'spam' * 3"
   ]
  },
  {
   "cell_type": "markdown",
   "id": "86aec5a9",
   "metadata": {},
   "source": [
    "### 8. Why is eggs a valid variable name while 100 is invalid?\n",
    "**ANS**-- Variable name can not start with Digit"
   ]
  },
  {
   "cell_type": "code",
   "execution_count": 18,
   "id": "d184eda6",
   "metadata": {},
   "outputs": [
    {
     "name": "stdout",
     "output_type": "stream",
     "text": [
      "12\n"
     ]
    }
   ],
   "source": [
    "eggs=12\n",
    "print(eggs)"
   ]
  },
  {
   "cell_type": "markdown",
   "id": "81d36632",
   "metadata": {},
   "source": [
    "### 10. Why does this expression cause an error? How can you fix it?\n",
    "### 'I have eaten ' + (99) + ' burritos.'\n",
    "**ANS**\n",
    "The expression causes an error because 99 is an integer, and only strings can be concatenated to other strings with the + operator. The correct way is **'I have eaten ' + str(99) + ' burritos.'**."
   ]
  },
  {
   "cell_type": "code",
   "execution_count": 23,
   "id": "ef9a8500",
   "metadata": {},
   "outputs": [
    {
     "data": {
      "text/plain": [
       "'I have eaten 99 burritos.'"
      ]
     },
     "execution_count": 23,
     "metadata": {},
     "output_type": "execute_result"
    }
   ],
   "source": [
    "'I have eaten ' + str(99) + ' burritos.'"
   ]
  },
  {
   "cell_type": "code",
   "execution_count": null,
   "id": "249fd0fd",
   "metadata": {},
   "outputs": [],
   "source": []
  }
 ],
 "metadata": {
  "kernelspec": {
   "display_name": "Python 3 (ipykernel)",
   "language": "python",
   "name": "python3"
  },
  "language_info": {
   "codemirror_mode": {
    "name": "ipython",
    "version": 3
   },
   "file_extension": ".py",
   "mimetype": "text/x-python",
   "name": "python",
   "nbconvert_exporter": "python",
   "pygments_lexer": "ipython3",
   "version": "3.9.12"
  }
 },
 "nbformat": 4,
 "nbformat_minor": 5
}
