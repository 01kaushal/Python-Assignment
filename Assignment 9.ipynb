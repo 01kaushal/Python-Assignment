{
 "cells": [
  {
   "cell_type": "markdown",
   "id": "3d615d4c",
   "metadata": {},
   "source": [
    "#### Assignment 9"
   ]
  },
  {
   "cell_type": "markdown",
   "id": "8b40ac1d",
   "metadata": {},
   "source": [
    "#### 1. What is a lambda function in Python, and how does it differ from a regular function?\n",
    "\n",
    "A lambda function is an defined without a name that can take any number of arguments but lamda function return only one expression like a regular function.\n",
    "lambda function is used for sort expression.\n",
    "\n",
    "in regular function we use def to create a function but in lambda be use lambda name\n"
   ]
  },
  {
   "cell_type": "code",
   "execution_count": 1,
   "id": "e1af4525",
   "metadata": {},
   "outputs": [
    {
     "name": "stdout",
     "output_type": "stream",
     "text": [
      "KAUSHAL KUMAR\n"
     ]
    }
   ],
   "source": [
    "\n",
    "str1 = \"kaushal kumar\"\n",
    " \n",
    "upper = lambda string: string.upper()\n",
    "print(upper(str1))"
   ]
  },
  {
   "cell_type": "markdown",
   "id": "75270be5",
   "metadata": {},
   "source": [
    "#### 2. Can a lambda function in Python have multiple arguments? If yes, how can you define and use them?\n",
    "Yes lambda function in python have multiple arguments."
   ]
  },
  {
   "cell_type": "code",
   "execution_count": 7,
   "id": "179d44f2",
   "metadata": {},
   "outputs": [
    {
     "data": {
      "text/plain": [
       "9"
      ]
     },
     "execution_count": 7,
     "metadata": {},
     "output_type": "execute_result"
    }
   ],
   "source": [
    "(lambda a, b, c: a + b + c)(2, 1, 6)"
   ]
  },
  {
   "cell_type": "markdown",
   "id": "e1d955fa",
   "metadata": {},
   "source": [
    "#### 3. How are lambda functions typically used in Python? Provide an example use case.\n",
    "lambda function can have any number of arguments but only one expression, which is evaluated and returned."
   ]
  },
  {
   "cell_type": "code",
   "execution_count": 22,
   "id": "01975675",
   "metadata": {},
   "outputs": [
    {
     "name": "stdout",
     "output_type": "stream",
     "text": [
      "Using function defined with def keyword, cube: 20\n",
      "Using lambda function, cube: 20\n"
     ]
    }
   ],
   "source": [
    "def cube(y,z,p):\n",
    "    return y*z*p\n",
    " \n",
    "lambda_cube = lambda y,z,p: y*z*p\n",
    "print(\"Using function defined with def keyword, cube:\", cube(5,2,2))\n",
    "print(\"Using lambda function, cube:\", lambda_cube(5,2,2))"
   ]
  },
  {
   "cell_type": "markdown",
   "id": "36f9e000",
   "metadata": {},
   "source": [
    "### 4. What are the advantages and limitations of lambda functions compared to regular functions in Python?\n",
    "**Advantages**\n",
    "In lambda function expressions are usually a single line of a statement. When ever we want we can use.And the main advantage is their concise and readable syntax.\n",
    "\n",
    "**Limitation**\n",
    "We can not use for lagre problem. \n",
    "\n",
    "due to one line syntex it will not solve the problem of multiple line function problem as noramal function solve"
   ]
  },
  {
   "cell_type": "markdown",
   "id": "fc296179",
   "metadata": {},
   "source": [
    "#### 5.Are lambda functions in Python able to access variables defined outside of their own scope? Explain with an example.\n",
    "No lambda function can not able to access outside variable . they have their own local variable "
   ]
  },
  {
   "cell_type": "code",
   "execution_count": 23,
   "id": "fbb92267",
   "metadata": {},
   "outputs": [
    {
     "name": "stdout",
     "output_type": "stream",
     "text": [
      "12\n"
     ]
    }
   ],
   "source": [
    "z=1 # this will not be acceptable bcz it is not local varible for lambda function\n",
    "y=2 # this will not be acceptable bcz it is not local varible for lambda function\n",
    "\n",
    "lambda_cube = lambda y,z,p: y*z*p\n",
    "print(lambda_cube(2,3,2))"
   ]
  },
  {
   "cell_type": "markdown",
   "id": "414762dd",
   "metadata": {},
   "source": [
    "#### 6. Write a lambda function to calculate the square of a given number."
   ]
  },
  {
   "cell_type": "code",
   "execution_count": 29,
   "id": "a81830db",
   "metadata": {},
   "outputs": [
    {
     "name": "stdout",
     "output_type": "stream",
     "text": [
      "25\n"
     ]
    }
   ],
   "source": [
    "lambda_surt = lambda y: y**2\n",
    "print(lambda_surt(5))"
   ]
  },
  {
   "cell_type": "markdown",
   "id": "26b1f9e9",
   "metadata": {},
   "source": [
    "#### 7. Create a lambda function to find the maximum value in a list of integers."
   ]
  },
  {
   "cell_type": "code",
   "execution_count": 32,
   "id": "c0b57e82",
   "metadata": {},
   "outputs": [
    {
     "name": "stdout",
     "output_type": "stream",
     "text": [
      "6666\n"
     ]
    }
   ],
   "source": [
    "list1=[34,45,2,3,5,724,557,6666]\n",
    "\n",
    "print(max(list1, key=lambda value: int(value)) )"
   ]
  },
  {
   "cell_type": "markdown",
   "id": "1b95561d",
   "metadata": {},
   "source": [
    "#### 8. Implement a lambda function to filter out all the even numbers from a list of integers."
   ]
  },
  {
   "cell_type": "code",
   "execution_count": 45,
   "id": "24a40eb2",
   "metadata": {},
   "outputs": [
    {
     "name": "stdout",
     "output_type": "stream",
     "text": [
      "[22, 54, 62, 4, 6, 8]\n"
     ]
    }
   ],
   "source": [
    "list1 = [5, 7, 22, 97, 54, 62, 77, 23, 73, 61,4,6,8,9]\n",
    " \n",
    "final_list1 = list(filter(lambda x: (x % 2 == 0), list1))\n",
    "print(final_list1)"
   ]
  },
  {
   "cell_type": "markdown",
   "id": "42fec8db",
   "metadata": {},
   "source": [
    "#### 9. Write a lambda function to sort a list of strings in ascending order based on the length of each string."
   ]
  },
  {
   "cell_type": "code",
   "execution_count": 51,
   "id": "1a1e3a0e",
   "metadata": {},
   "outputs": [
    {
     "name": "stdout",
     "output_type": "stream",
     "text": [
      "['Kum', 'kumar', 'kaushal', 'Rajwara', 'rajwara']\n"
     ]
    }
   ],
   "source": [
    "\n",
    "myList = [\"kaushal\", \"kumar\", \"Rajwara\", \"Kum\", \"rajwara\"]\n",
    " \n",
    "sortedList = sorted(myList , key=lambda x: len(x))\n",
    " \n",
    "print(sortedList)"
   ]
  },
  {
   "cell_type": "markdown",
   "id": "55234b61",
   "metadata": {},
   "source": [
    "#### 10. Create a lambda function that takes two lists as input and returns a new list containing the common elements between the two lists."
   ]
  },
  {
   "cell_type": "code",
   "execution_count": 55,
   "id": "6a131ce7",
   "metadata": {},
   "outputs": [
    {
     "name": "stdout",
     "output_type": "stream",
     "text": [
      "Intersection of the said arrays:  [1, 2, 8, 9]\n"
     ]
    }
   ],
   "source": [
    "array1 = [1, 2, 3, 5, 7, 8, 9, 10]\n",
    "array2 = [1, 2, 4, 8, 9]\n",
    "result = list(filter(lambda x: x in array1, array2)) \n",
    "print (\"Intersection of the said arrays: \",result)"
   ]
  },
  {
   "cell_type": "markdown",
   "id": "7f270ebd",
   "metadata": {},
   "source": [
    "#### 11. Write a recursive function to calculate the factorial of a given positive integer."
   ]
  },
  {
   "cell_type": "code",
   "execution_count": 6,
   "id": "07136209",
   "metadata": {},
   "outputs": [
    {
     "name": "stdout",
     "output_type": "stream",
     "text": [
      "Enter Value: 9\n",
      "Factorial of 9 is 362880\n"
     ]
    }
   ],
   "source": [
    "def factorial(n): \n",
    "       \n",
    "    if n == 0: \n",
    "        return 1\n",
    "      \n",
    "    return n * factorial(n-1)  ## recursive function\n",
    "   \n",
    "num = int(input(\"Enter Value: \"))\n",
    "print(\"Factorial of\", num, \"is\", factorial(num)) "
   ]
  },
  {
   "cell_type": "markdown",
   "id": "22605164",
   "metadata": {},
   "source": [
    "#### 12. Implement a recursive function to compute the nth Fibonacci number."
   ]
  },
  {
   "cell_type": "code",
   "execution_count": 8,
   "id": "84d73892",
   "metadata": {},
   "outputs": [
    {
     "name": "stdout",
     "output_type": "stream",
     "text": [
      "Enter value:12\n",
      "12 th Fibonacci Number: \n",
      "144\n"
     ]
    }
   ],
   "source": [
    "def fibonacci_1(n):\n",
    "    if n <= 1:\n",
    "        return n\n",
    "    return fibonacci_1(n-1) + fibonacci_1(n-2) ## recursive function\n",
    " \n",
    " \n",
    "\n",
    "n = int(input(\"Enter value:\"))\n",
    "print(n, \"th Fibonacci Number: \")\n",
    "print(fibonacci_1(n))"
   ]
  },
  {
   "cell_type": "markdown",
   "id": "bf3ca2bf",
   "metadata": {},
   "source": [
    "#### 13. Create a recursive function to find the sum of all the elements in a given list."
   ]
  },
  {
   "cell_type": "code",
   "execution_count": 16,
   "id": "686278f9",
   "metadata": {},
   "outputs": [
    {
     "name": "stdout",
     "output_type": "stream",
     "text": [
      "Sum of all elements in given list:  239\n"
     ]
    }
   ],
   "source": [
    "\n",
    "list1=[12,44,6,89,65,23] # creating list\n",
    "\n",
    "def listsum(list,size):\n",
    "    if(size==0): if size will we zero then it will return 0\n",
    "        return 0\n",
    "    else:\n",
    "        return list[size-1]+listsum(list,size-1)  ## recursive function\n",
    "    \n",
    "totalsum= listsum(list1,len(list1))   \n",
    "print(\"Sum of all elements in given list: \", totalsum)  "
   ]
  },
  {
   "cell_type": "markdown",
   "id": "b78791df",
   "metadata": {},
   "source": [
    "#### 14. Write a recursive function to determine whether a given string is a palindrome."
   ]
  },
  {
   "cell_type": "code",
   "execution_count": 36,
   "id": "0a87eca8",
   "metadata": {},
   "outputs": [
    {
     "name": "stdout",
     "output_type": "stream",
     "text": [
      "Yes\n"
     ]
    }
   ],
   "source": [
    "def isPalindrome(s, i):\n",
    "    if(i > len(s)/2):\n",
    "        return True\n",
    "    ans = False\n",
    "    if((s[i] is s[len(s) - i - 1]) and isPalindrome(s, i + 1)): ## recursive function\n",
    "        ans = True\n",
    "    return ans\n",
    " \n",
    "str = \"kauak\"\n",
    "if (isPalindrome(str,0)): \n",
    "    print(\"Yes\")\n",
    "else:\n",
    "    print(\"No\")\n",
    "     "
   ]
  },
  {
   "cell_type": "markdown",
   "id": "410369d2",
   "metadata": {},
   "source": [
    "#### 15. Implement a recursive function to find the greatest common divisor (GCD) of two positive integers."
   ]
  },
  {
   "cell_type": "code",
   "execution_count": 39,
   "id": "b1f4c5e4",
   "metadata": {},
   "outputs": [
    {
     "name": "stdout",
     "output_type": "stream",
     "text": [
      "GCD of 102 and 56 is 2\n"
     ]
    }
   ],
   "source": [
    "def gcd(p, q):\n",
    "    # Everything divides 0\n",
    "    if p== 0:\n",
    "        return b\n",
    "    if q == 0:\n",
    "        return a\n",
    " \n",
    "    # Base case\n",
    "    if p == q:\n",
    "        return p\n",
    " \n",
    "    # a is greater\n",
    "    if p > q:\n",
    "        if p % q == 0:\n",
    "            return p\n",
    "        return gcd(p - q, p) ## recursive function as\n",
    "    if p % q == 0:\n",
    "        return p\n",
    "    return gcd(p, q - p) ## recursive function\n",
    "\n",
    "a = 102\n",
    "b = 56\n",
    "print(f\"GCD of {a} and {b} is {gcd(a, b)}\")"
   ]
  },
  {
   "cell_type": "code",
   "execution_count": null,
   "id": "36a94aaa",
   "metadata": {},
   "outputs": [],
   "source": []
  }
 ],
 "metadata": {
  "kernelspec": {
   "display_name": "Python 3 (ipykernel)",
   "language": "python",
   "name": "python3"
  },
  "language_info": {
   "codemirror_mode": {
    "name": "ipython",
    "version": 3
   },
   "file_extension": ".py",
   "mimetype": "text/x-python",
   "name": "python",
   "nbconvert_exporter": "python",
   "pygments_lexer": "ipython3",
   "version": "3.9.12"
  }
 },
 "nbformat": 4,
 "nbformat_minor": 5
}
