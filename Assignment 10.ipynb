{
 "cells": [
  {
   "cell_type": "markdown",
   "id": "b0adca4b",
   "metadata": {},
   "source": [
    "#### 1. What is the role of try and exception block?\n",
    "try and exception block are used to find the error in own block of code. \n",
    "\n",
    "**try block** will run the code when there is no error in try block. **exception block** will run when the catching error in try block."
   ]
  },
  {
   "cell_type": "code",
   "execution_count": 51,
   "id": "10c2c37e",
   "metadata": {},
   "outputs": [
    {
     "name": "stdout",
     "output_type": "stream",
     "text": [
      "You are dividing by zero \n"
     ]
    }
   ],
   "source": [
    "def divide(x, y):\n",
    "    try:\n",
    "        \n",
    "        result = x // y\n",
    "        print(\" after divide answer is :\", result)\n",
    "    except ZeroDivisionError:\n",
    "        print(\"You are dividing by zero \")\n",
    " \n",
    " # Look at parameters and note the working of Program\n",
    "divide(1, 0)"
   ]
  },
  {
   "cell_type": "markdown",
   "id": "2668c0e0",
   "metadata": {},
   "source": [
    "#### 2. What is the syntax for a basic try-except block?\n",
    "try:\n",
    "\n",
    "    # Code\n",
    "    \n",
    "except:\n",
    "\n",
    "    # Executed if error in the try block"
   ]
  },
  {
   "cell_type": "code",
   "execution_count": 28,
   "id": "f8a2451a",
   "metadata": {},
   "outputs": [
    {
     "name": "stdout",
     "output_type": "stream",
     "text": [
      "problem in divide\n"
     ]
    }
   ],
   "source": [
    "def divide(x, y):\n",
    "    try:\n",
    "        \n",
    "        result = x // y\n",
    "        print(\" after divide answer is :\", result)\n",
    "    except ZeroDivisionError:\n",
    "        print(\"problem in divide\")\n",
    "divide(9, 0)"
   ]
  },
  {
   "cell_type": "markdown",
   "id": "e162eadf",
   "metadata": {},
   "source": [
    "#### 3. What happens if an exception occurs inside a try block and there is no matching except block?\n",
    "if an exception occurs inside a try block and there is no matching except block then it is passed on to try satements. if no handler found it ia an unhandled expception and execution stops with an error massage"
   ]
  },
  {
   "cell_type": "markdown",
   "id": "8384d0ad",
   "metadata": {},
   "source": [
    "#### 4. What is the difference between using a bare except block and specifying a specific exception type?\n",
    "**specifying \"Exception\"**, we are telling the interpreter to handle any type of exception that might be raised. The more specific the exception specified in the except clause, the more targeted the handling of the exception .\n",
    "**bare except block** can catch any and all kind of exception, that in python is anything that is or inherit from BaseException that sit at the top of the exception hierarchy."
   ]
  },
  {
   "cell_type": "markdown",
   "id": "360a1ce9",
   "metadata": {},
   "source": [
    "#### 5. Can you have nested try-except blocks in Python? If yes, then give an example.\n",
    "yes it is possible"
   ]
  },
  {
   "cell_type": "code",
   "execution_count": 29,
   "id": "37c33b6c",
   "metadata": {},
   "outputs": [
    {
     "name": "stdout",
     "output_type": "stream",
     "text": [
      "You are dividing by zero \n",
      "inside outer block\n"
     ]
    }
   ],
   "source": [
    "p=12\n",
    "q=0\n",
    "\n",
    "try:\n",
    "    print(p/q)\n",
    "    try:\n",
    "        print(\"This is inner try block\") ### nested loop\n",
    "    except Exception:\n",
    "        print(\"general exception\")\n",
    "        \n",
    "    finally:\n",
    "        print(\"inside inner finally block\")\n",
    "        \n",
    "except ZeroDivisionError:\n",
    "    print(\"You are dividing by zero \")\n",
    "    \n",
    "finally:\n",
    "    print(\"inside outer block\")"
   ]
  },
  {
   "cell_type": "markdown",
   "id": "1c14a39e",
   "metadata": {},
   "source": [
    "#### 6. Can we use multiple exception blocks, if yes then give an example."
   ]
  },
  {
   "cell_type": "code",
   "execution_count": 48,
   "id": "a7b95b03",
   "metadata": {},
   "outputs": [],
   "source": [
    "# Using multiple except blocks\n",
    "try:\n",
    "    # Code that raise Exception\n",
    "    pass\n",
    "except TypeError as e:\n",
    "    print(\"TypeError occurred:\", e)\n",
    "except ValueError as e:\n",
    "    print(\"ValueError occurred:\", e)"
   ]
  },
  {
   "cell_type": "markdown",
   "id": "a2913d53",
   "metadata": {},
   "source": [
    "#### 7. Write the reason due to which following errors are raised:\n",
    "    \n",
    "a. EOFError: The reason that EOFError occurs is that Python attempts to print out your input in variable string when no data is given\n",
    "\n",
    "b. FloatingPointError: The reason that FloatingPointError occurs when the internal representation of floating-point numbers, which uses a fixed number of binary digits to represent a decimal number\n",
    "\n",
    "c. IndexError: The reason IndexError occurs when we access the list, tuple, set, ect out side the range on that time problem will come\n",
    "\n",
    "d. MemoryError: Due to an issue in the setup of the Python environment or it may be the code itself loading too much data at the same time\n",
    "\n",
    "e. OverflowError : when operations like arithmetic operations or any other variable storing variable store value above their limit on that time OverflowError will come.\n",
    "\n",
    "f. TabError :The reason that TabError occurs when we mix tab and spaces in same code block .\n",
    "\n",
    "g. ValueError : The reason that ValueError occurs when a correct argument type but an incorrect value is supplied to a function."
   ]
  },
  {
   "cell_type": "markdown",
   "id": "bf16f365",
   "metadata": {},
   "source": [
    "#### 8. Write code for the following given scenario and add try-exception block to it.\n",
    "a. Program to divide two numbers\n",
    "\n",
    "b. Program to convert a string to an integer\n",
    "\n",
    "c. Program to access an element in a list\n",
    "\n",
    "d. Program to handle a specific exception\n",
    "\n",
    "e. Program to handle any exception"
   ]
  },
  {
   "cell_type": "code",
   "execution_count": 56,
   "id": "6151bcda",
   "metadata": {},
   "outputs": [
    {
     "name": "stdout",
     "output_type": "stream",
     "text": [
      " after divide answer is : 2.0\n"
     ]
    }
   ],
   "source": [
    "# a. Program to divide two numbers\n",
    "def divide(x, y):\n",
    "    try:\n",
    "        \n",
    "        result = x / y\n",
    "        print(\" after divide answer is :\", result)\n",
    "    except ZeroDivisionError:\n",
    "        print(\"You are dividing by zero \")\n",
    " \n",
    " # Look at parameters and note the working of Program\n",
    "divide(4, 2)"
   ]
  },
  {
   "cell_type": "code",
   "execution_count": 75,
   "id": "ecdd3d16",
   "metadata": {},
   "outputs": [
    {
     "name": "stdout",
     "output_type": "stream",
     "text": [
      "Integer value is: 12\n",
      "<class 'int'>\n"
     ]
    }
   ],
   "source": [
    "# b. Program to convert a string to an integer\n",
    "\n",
    "\n",
    "\n",
    "\n",
    "def convert(num):\n",
    "    try:\n",
    "        converted_num=int(num)\n",
    "        print(\"Integer value is:\",converted_num)\n",
    "        print(type(converted_num))\n",
    "        \n",
    "    except FloatingPointError:\n",
    "        print(\"Enter string in inpute\")\n",
    "        \n",
    "\n",
    "convert('12')"
   ]
  },
  {
   "cell_type": "code",
   "execution_count": 76,
   "id": "ffcd6910",
   "metadata": {},
   "outputs": [
    {
     "name": "stdout",
     "output_type": "stream",
     "text": [
      "1\n",
      "2\n",
      "3\n",
      "4\n",
      "5\n",
      "6\n"
     ]
    }
   ],
   "source": [
    "# c.Program to access an element in a list\n",
    "\n",
    "def access(list1):\n",
    "    try:\n",
    "        for i in list1:\n",
    "            print(i)\n",
    "            \n",
    "    except IndexError:\n",
    "        print(\"enter as a list\")\n",
    "\n",
    "\n",
    "\n",
    "list1=[1,2,3,4,5,6]\n",
    "access(list1)\n"
   ]
  },
  {
   "cell_type": "code",
   "execution_count": 84,
   "id": "208edee9",
   "metadata": {},
   "outputs": [
    {
     "name": "stdout",
     "output_type": "stream",
     "text": [
      " kaushal point caught!\n"
     ]
    }
   ],
   "source": [
    "# d. Program to handle a specific exception\n",
    "def catch(msg):\n",
    "    try:\n",
    "        raise ValueError(msg)\n",
    "    except ValueError as e:  \n",
    "        if str(e) != \"kaushal\":\n",
    "            raise\n",
    "        else:\n",
    "            print(\" kaushal point caught!\")\n",
    "\n",
    "catch(\"kaushal\")\n"
   ]
  },
  {
   "cell_type": "code",
   "execution_count": 88,
   "id": "74a9c690",
   "metadata": {},
   "outputs": [
    {
     "name": "stdout",
     "output_type": "stream",
     "text": [
      "You are dividing by zero \n"
     ]
    }
   ],
   "source": [
    " # Program to handle any exception\n",
    "    \n",
    "def divide(x, y):\n",
    "    try:\n",
    "        \n",
    "        result = x / y\n",
    "        print(\" after divide answer is :\", result)\n",
    "    except ZeroDivisionError:\n",
    "        print(\"You are dividing by zero \")\n",
    " \n",
    " # Look at parameters and note the working of Program\n",
    "divide(4, 0)"
   ]
  },
  {
   "cell_type": "code",
   "execution_count": null,
   "id": "eb24f585",
   "metadata": {},
   "outputs": [],
   "source": []
  }
 ],
 "metadata": {
  "kernelspec": {
   "display_name": "Python 3 (ipykernel)",
   "language": "python",
   "name": "python3"
  },
  "language_info": {
   "codemirror_mode": {
    "name": "ipython",
    "version": 3
   },
   "file_extension": ".py",
   "mimetype": "text/x-python",
   "name": "python",
   "nbconvert_exporter": "python",
   "pygments_lexer": "ipython3",
   "version": "3.9.12"
  }
 },
 "nbformat": 4,
 "nbformat_minor": 5
}
