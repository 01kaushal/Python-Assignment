{
 "cells": [
  {
   "cell_type": "markdown",
   "id": "df920886",
   "metadata": {},
   "source": [
    "#### 1. In Python, what is the difference between a built-in function and a user-defined function? Provide an example of each.\n",
    "**Built-in fuction** A fuction that came with python or already built is built-in function. \n",
    "\n",
    "**User define function** A function that is built your self is called user define function."
   ]
  },
  {
   "cell_type": "code",
   "execution_count": 2,
   "id": "68f7bd6f",
   "metadata": {},
   "outputs": [
    {
     "data": {
      "text/plain": [
       "[1, 3, 5, 34, 98, 122]"
      ]
     },
     "execution_count": 2,
     "metadata": {},
     "output_type": "execute_result"
    }
   ],
   "source": [
    "list=[1,5,3,98,122,34]\n",
    "list.sort()  # this is built-in function\n",
    "list"
   ]
  },
  {
   "cell_type": "code",
   "execution_count": 5,
   "id": "ffd92b3a",
   "metadata": {},
   "outputs": [
    {
     "name": "stdout",
     "output_type": "stream",
     "text": [
      "kaushal kumar\n"
     ]
    }
   ],
   "source": [
    "def printname():  ## user define name\n",
    "    print(\"kaushal kumar\")\n",
    "    \n",
    "printname()"
   ]
  },
  {
   "cell_type": "markdown",
   "id": "556e2056",
   "metadata": {},
   "source": [
    "#### 2. How can you pass arguments to a function in Python? Explain the difference between positional arguments and keyword arguments."
   ]
  },
  {
   "cell_type": "code",
   "execution_count": 8,
   "id": "f128de87",
   "metadata": {},
   "outputs": [
    {
     "name": "stdout",
     "output_type": "stream",
     "text": [
      "kaushal\n"
     ]
    }
   ],
   "source": [
    "def name(Name): # Name is argument of  function\n",
    "    print(Name)\n",
    "\n",
    "# this is finction call\n",
    "name(\"kaushal\") # we pass argument as kaushal"
   ]
  },
  {
   "cell_type": "code",
   "execution_count": 14,
   "id": "103e2912",
   "metadata": {},
   "outputs": [
    {
     "name": "stdout",
     "output_type": "stream",
     "text": [
      "addition is  3\n"
     ]
    }
   ],
   "source": [
    "# keyword argument\n",
    "def add(a,b):\n",
    "    addition=a+b\n",
    "    return addition\n",
    "    \n",
    "c=add(1,2) ## this is keyword argument\n",
    "print(\"addition is \",c)"
   ]
  },
  {
   "cell_type": "code",
   "execution_count": 17,
   "id": "cfe7dfe4",
   "metadata": {},
   "outputs": [
    {
     "name": "stdout",
     "output_type": "stream",
     "text": [
      "addition is  1\n"
     ]
    }
   ],
   "source": [
    "# Positional argument\n",
    "def add(a,b):\n",
    "    addition=a+b\n",
    "\n",
    "    return addition\n",
    "\n",
    "\n",
    "    \n",
    "c=add(a=1,b=2) ## this is positional argument\n",
    "print(\"addition is \",c)"
   ]
  },
  {
   "cell_type": "markdown",
   "id": "ed49a428",
   "metadata": {},
   "source": [
    "#### 3. What is the purpose of the return statement in a function? Can a function have multiple return statements? Explain with an example.\n",
    "\n",
    "The Purpose of return statement of a function is to return the value of function to calling function.\n",
    "\n",
    "yes it is possible but if we have two return statement then fisrt one will conside."
   ]
  },
  {
   "cell_type": "code",
   "execution_count": 19,
   "id": "f4f4a647",
   "metadata": {},
   "outputs": [
    {
     "name": "stdout",
     "output_type": "stream",
     "text": [
      "addition is  3\n"
     ]
    }
   ],
   "source": [
    "\n",
    "def add(a,b):\n",
    "    addition=a+b\n",
    "    \n",
    "    return addition # return statement and it will consider\n",
    "    return 2\n",
    "    \n",
    "c=add(1,2)\n",
    "print(\"addition is \",c)"
   ]
  },
  {
   "cell_type": "markdown",
   "id": "8a7d87dd",
   "metadata": {},
   "source": [
    "#### 4. What are lambda functions in Python? How are they different from regular functions? Provide an example where a lambda function can be useful.\n",
    "Lambda Functions are anonymous functions means that the function is without a name.\n",
    "\n",
    "Lambda functions are similar to user-defined functions but without a name"
   ]
  },
  {
   "cell_type": "code",
   "execution_count": 20,
   "id": "c90779d6",
   "metadata": {},
   "outputs": [
    {
     "name": "stdout",
     "output_type": "stream",
     "text": [
      "KAUSHAL KUMAR\n"
     ]
    }
   ],
   "source": [
    "\n",
    "str1 = \"kaushal kumar\"\n",
    " \n",
    "upper = lambda string: string.upper()\n",
    "print(upper(str1))"
   ]
  },
  {
   "cell_type": "markdown",
   "id": "91f74788",
   "metadata": {},
   "source": [
    "#### 5. How does the concept of \"scope\" apply to functions in Python? Explain the difference between local scope and global scope.\n",
    "When the function is created on that time scope is also created for particular finction menas area varibale is valid . If variable is valid in side function area mean we can says that variable is under scope.\n",
    "\n",
    "**Local Variable** when variable is under scope in function that is called local variable.\n",
    "\n",
    "**Globle Variable** when variable is valid inside function scope and outside function scope called globle variable."
   ]
  },
  {
   "cell_type": "code",
   "execution_count": 32,
   "id": "8b717919",
   "metadata": {},
   "outputs": [
    {
     "name": "stdout",
     "output_type": "stream",
     "text": [
      "300\n"
     ]
    }
   ],
   "source": [
    "def myfunc():\n",
    "  x = 300    # this is local variable\n",
    "  print(x)\n",
    "\n",
    "myfunc()"
   ]
  },
  {
   "cell_type": "code",
   "execution_count": 33,
   "id": "f6017c95",
   "metadata": {},
   "outputs": [
    {
     "name": "stdout",
     "output_type": "stream",
     "text": [
      "300\n"
     ]
    }
   ],
   "source": [
    " x = 300    # this is global variable\n",
    "def myfunc():\n",
    " \n",
    "  print(x)\n",
    "\n",
    "myfunc()"
   ]
  },
  {
   "cell_type": "markdown",
   "id": "702fad05",
   "metadata": {},
   "source": [
    "#### 6. How can you use the \"return\" statement in a Python function to return multiple values?\n",
    "if we want to return multiple value then we can write multiple value seprated with commas(,)."
   ]
  },
  {
   "cell_type": "code",
   "execution_count": 36,
   "id": "916a296f",
   "metadata": {},
   "outputs": [
    {
     "data": {
      "text/plain": [
       "(1, 3, 4)"
      ]
     },
     "execution_count": 36,
     "metadata": {},
     "output_type": "execute_result"
    }
   ],
   "source": [
    "def fun():\n",
    "    return 1,3,4  # returning multiple value\n",
    "\n",
    "fun()"
   ]
  },
  {
   "cell_type": "markdown",
   "id": "87451f7d",
   "metadata": {},
   "source": [
    "#### 7. What is the difference between the \"pass by value\" and \"pass by reference\" concepts when it comes to function arguments in Python?\n",
    "pass by value is concept that copying the function parameter value to another variable. And pass by reference passing the actual parameters to the function. Thus, this is the main difference between pass by value and pass by reference."
   ]
  },
  {
   "cell_type": "markdown",
   "id": "95d94c53",
   "metadata": {},
   "source": [
    "#### 8. Create a function that can take integer or decimal value and do following operations:\n",
    "a. Logarithmic function (log x)\n",
    "\n",
    "b. Exponential function (exp(x))\n",
    "\n",
    "c. Power function with base 2 (2**x)\n",
    "\n",
    "d. Square root"
   ]
  },
  {
   "cell_type": "code",
   "execution_count": 45,
   "id": "c592ba05",
   "metadata": {},
   "outputs": [
    {
     "name": "stdout",
     "output_type": "stream",
     "text": [
      "Enter X value: 12\n",
      "Log value of 12.0 is: 2.4849066497880004\n",
      "Exp value of 12.0 is: 162754.79141900392\n",
      "Power value of 12.0 is: 4096.0\n",
      "Square root value of 12.0 is: 3.4641016151377544\n"
     ]
    }
   ],
   "source": [
    "import math\n",
    "\n",
    " \n",
    "    \n",
    "x=float(input(\"Enter X value: \"))\n",
    "print (f\"Log value of {x} is:\" ,math.log(x))\n",
    "print (f\"Exp value of {x} is:\" ,math.exp(x))\n",
    "print (f\"Power value of {x} is:\" ,2**x)\n",
    "print (f\"Square root value of {x} is:\" ,math.sqrt(x))"
   ]
  },
  {
   "cell_type": "markdown",
   "id": "329c9a80",
   "metadata": {},
   "source": [
    "#### 9. Create a function that takes a full name as an argument and returns first name and last name."
   ]
  },
  {
   "cell_type": "code",
   "execution_count": 60,
   "id": "3f8218dc",
   "metadata": {},
   "outputs": [
    {
     "data": {
      "text/plain": [
       "('kaushal', 'kumar')"
      ]
     },
     "execution_count": 60,
     "metadata": {},
     "output_type": "execute_result"
    }
   ],
   "source": [
    "def full_last_name(fullname):\n",
    "    \n",
    "    first=fullname.split()[0]\n",
    "    last=fullname.split()[-1]\n",
    "    return first,last\n",
    "\n",
    "\n",
    "full_last_name(\"kaushal kumar\")"
   ]
  },
  {
   "cell_type": "code",
   "execution_count": null,
   "id": "6b179abb",
   "metadata": {},
   "outputs": [],
   "source": [
    "\n"
   ]
  },
  {
   "cell_type": "code",
   "execution_count": null,
   "id": "2bf4ac87",
   "metadata": {},
   "outputs": [],
   "source": []
  },
  {
   "cell_type": "code",
   "execution_count": null,
   "id": "beb05827",
   "metadata": {},
   "outputs": [],
   "source": []
  },
  {
   "cell_type": "code",
   "execution_count": null,
   "id": "40054970",
   "metadata": {},
   "outputs": [],
   "source": []
  },
  {
   "cell_type": "code",
   "execution_count": null,
   "id": "11955174",
   "metadata": {},
   "outputs": [],
   "source": []
  }
 ],
 "metadata": {
  "kernelspec": {
   "display_name": "Python 3 (ipykernel)",
   "language": "python",
   "name": "python3"
  },
  "language_info": {
   "codemirror_mode": {
    "name": "ipython",
    "version": 3
   },
   "file_extension": ".py",
   "mimetype": "text/x-python",
   "name": "python",
   "nbconvert_exporter": "python",
   "pygments_lexer": "ipython3",
   "version": "3.9.12"
  }
 },
 "nbformat": 4,
 "nbformat_minor": 5
}
