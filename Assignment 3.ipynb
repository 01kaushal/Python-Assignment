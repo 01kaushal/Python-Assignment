{
 "cells": [
  {
   "cell_type": "markdown",
   "id": "7a115acd",
   "metadata": {},
   "source": [
    "#### 1. Why are functions advantageous to have in your programs?\n",
    "**ANS** - Advantage of function\n",
    "\n",
    "The use of functions makes a program more readable. if the problem is large then we solve problem to break small small block in form of function. it aslo avoid the duplicate code in the program."
   ]
  },
  {
   "cell_type": "markdown",
   "id": "5d16092d",
   "metadata": {},
   "source": [
    "#### 2. When does the code in a function run:when it's specified or when it's called?\n",
    "**ANS** code in function will run when the function will call"
   ]
  },
  {
   "cell_type": "markdown",
   "id": "9e6db542",
   "metadata": {},
   "source": [
    "#### 3. What statement creates a function?\n",
    "**ANS** def statement define to create a function"
   ]
  },
  {
   "cell_type": "code",
   "execution_count": 1,
   "id": "a6114115",
   "metadata": {},
   "outputs": [
    {
     "name": "stdout",
     "output_type": "stream",
     "text": [
      "KAUSHAL\n"
     ]
    }
   ],
   "source": [
    "def name():\n",
    "    print(\"KAUSHAL\")\n",
    "    \n",
    "name()"
   ]
  },
  {
   "cell_type": "markdown",
   "id": "949b1999",
   "metadata": {},
   "source": [
    "#### 4. What is the difference between a function and a function call?"
   ]
  },
  {
   "cell_type": "code",
   "execution_count": 3,
   "id": "528dff9b",
   "metadata": {},
   "outputs": [
    {
     "name": "stdout",
     "output_type": "stream",
     "text": [
      "5\n"
     ]
    }
   ],
   "source": [
    "## this finction it is created by def statements and the code is writen in same block of statements.\n",
    "def add(a,b):\n",
    "    print(a+b)\n",
    "    \n",
    "add(2,3) # This is function call where we call a function to run the code written in function "
   ]
  },
  {
   "cell_type": "markdown",
   "id": "4dede694",
   "metadata": {},
   "source": [
    "#### 5. How many global scopes are there in a Python program? How many local scopes?\n",
    "**ANS**  there are only one global scope in python during program execution. And local scopes will created when function will called so local scope based on fuction creation. local scope may multiple in a program"
   ]
  },
  {
   "cell_type": "markdown",
   "id": "6abb8d94",
   "metadata": {},
   "source": [
    "#### 6. What happens to variables in a local scope when the function call returns?\n",
    "**ANS** When the function call returns the local variables are destroyed"
   ]
  },
  {
   "cell_type": "markdown",
   "id": "2195edd6",
   "metadata": {},
   "source": [
    "#### 7. What is the concept of a return value? Is it possible to have a return value in an expression?\n",
    "**ANS**\n",
    "when the function completes its task then it return the value to the calling function. Yes its possible to have return value in an expression\n"
   ]
  },
  {
   "cell_type": "markdown",
   "id": "803714ab",
   "metadata": {},
   "source": [
    "#### 8. If a function does not have a return statement, what is the return value of a call to that function?\n",
    "**ANS** If a function does not have a return statement, then Nothing it will return"
   ]
  },
  {
   "cell_type": "markdown",
   "id": "e0bf2f94",
   "metadata": {},
   "source": [
    "#### 9. How do you make a function variable refer to the global variable?\n",
    "**ANS**  we can use the global keyword to declare which variables are global."
   ]
  },
  {
   "cell_type": "markdown",
   "id": "e54cb746",
   "metadata": {},
   "source": [
    "#### 10. What is the data type of None?\n",
    "**ANS** NoneType"
   ]
  },
  {
   "cell_type": "code",
   "execution_count": 4,
   "id": "5425943a",
   "metadata": {},
   "outputs": [
    {
     "data": {
      "text/plain": [
       "NoneType"
      ]
     },
     "execution_count": 4,
     "metadata": {},
     "output_type": "execute_result"
    }
   ],
   "source": [
    "p=None\n",
    "type(p)"
   ]
  },
  {
   "cell_type": "markdown",
   "id": "9c983fac",
   "metadata": {},
   "source": [
    "#### 11. What does the sentence import areallyourpetsnamederic do?\n",
    "**ANS** This import statement is saying that imports a module name as  areallyourpetsnamederic"
   ]
  },
  {
   "cell_type": "markdown",
   "id": "82bd3cb3",
   "metadata": {},
   "source": [
    "#### 12. If you had a function named bacon() inside a module named spam, how would you call it after importing spam?\n",
    "**ANS** we call like **spam.bacon()**"
   ]
  },
  {
   "cell_type": "markdown",
   "id": "f605f5f1",
   "metadata": {},
   "source": [
    "#### 13. What can you do to save a programme from crashing if it encounters an error?\n",
    "**ANS** we can use try-except blocks or other error-handling techniques, in order to handle errors and prevent the program from crashing"
   ]
  },
  {
   "cell_type": "markdown",
   "id": "752c45e7",
   "metadata": {},
   "source": [
    "#### 14. What is the purpose of the try clause? What is the purpose of the except clause?\n",
    "**try**- try clause is used to catch the exceptions . the statements where eceptions are raise keep inside the  try clause\n",
    "\n",
    "**except clause** the statements that handle the exception are written inside except clause"
   ]
  },
  {
   "cell_type": "code",
   "execution_count": 10,
   "id": "26ee4e51",
   "metadata": {},
   "outputs": [
    {
     "name": "stdout",
     "output_type": "stream",
     "text": [
      "Second element = 2\n",
      "An error occurred\n"
     ]
    }
   ],
   "source": [
    "\n",
    "p = [1, 2, 3,5,6]\n",
    "try: \n",
    "    print(\"Second element = %d\" %(p[1]))\n",
    " \n",
    "    print(\"fift element = %d\" %(p[6]))\n",
    " \n",
    "except:\n",
    "    print (\"An error occurred\")"
   ]
  },
  {
   "cell_type": "code",
   "execution_count": null,
   "id": "ea473b56",
   "metadata": {},
   "outputs": [],
   "source": []
  }
 ],
 "metadata": {
  "kernelspec": {
   "display_name": "Python 3 (ipykernel)",
   "language": "python",
   "name": "python3"
  },
  "language_info": {
   "codemirror_mode": {
    "name": "ipython",
    "version": 3
   },
   "file_extension": ".py",
   "mimetype": "text/x-python",
   "name": "python",
   "nbconvert_exporter": "python",
   "pygments_lexer": "ipython3",
   "version": "3.9.12"
  }
 },
 "nbformat": 4,
 "nbformat_minor": 5
}
