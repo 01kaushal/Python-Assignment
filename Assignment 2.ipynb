{
 "cells": [
  {
   "cell_type": "markdown",
   "id": "a5e22a75",
   "metadata": {},
   "source": [
    "### 1.What are the two values of the Boolean data type? How do you write them?\n",
    "\n",
    "**ANS**- Two values of the Boolean data type is **True(1)** and **False(0)**"
   ]
  },
  {
   "cell_type": "code",
   "execution_count": 1,
   "id": "84044b58",
   "metadata": {},
   "outputs": [
    {
     "name": "stdout",
     "output_type": "stream",
     "text": [
      "True\n",
      "False\n",
      "True\n",
      "False\n"
     ]
    }
   ],
   "source": [
    "a=1\n",
    "b=3\n",
    "c=True\n",
    "d=False\n",
    "print(a==1)\n",
    "print(b==10)\n",
    "print(c)\n",
    "print(d)"
   ]
  },
  {
   "cell_type": "markdown",
   "id": "317754ae",
   "metadata": {},
   "source": [
    "### 2. What are the three different types of Boolean operators?\n",
    "**ANS**\n",
    "The three different type of Boolean operators are **AND , OR , NOT**"
   ]
  },
  {
   "cell_type": "code",
   "execution_count": 10,
   "id": "a422f750",
   "metadata": {},
   "outputs": [
    {
     "name": "stdout",
     "output_type": "stream",
     "text": [
      "Enter a number: 17\n",
      "It is not between 1 and 10.\n",
      "OR Operator------------\n",
      "Number is greater then 10 or equal to zero.\n",
      "NOT operator------------\n",
      "Enter a sentence: kaushal\n",
      "There is at least one letter \"k\".\n"
     ]
    }
   ],
   "source": [
    "## AND operators if both condition true then the AND operator will true\n",
    "number = int(input(\"Enter a number: \"))\n",
    "\n",
    "if number > 1 and number < 10:\n",
    "    print(\"It is between 1 and 10.\")\n",
    "else:\n",
    "    print(\"It is not between 1 and 10.\")\n",
    "    \n",
    "### OR operator if any condition true then OR operator will true\n",
    "print(\"OR Operator------------\")\n",
    "if number > 10 or number ==0:\n",
    "    print(\"Number is greater then 10 or equal to zero.\")\n",
    "else:\n",
    "    print(\"Number is less then 10\")\n",
    "    \n",
    "print(\"NOT operator------------\")\n",
    "\n",
    "sentence = input(\"Enter a sentence: \")\n",
    "\n",
    "if \"k\" not in sentence:\n",
    "    print('There is no letter \"k\".')\n",
    "else:\n",
    "    print('There is at least one letter \"k\".')\n",
    "\n"
   ]
  },
  {
   "cell_type": "markdown",
   "id": "be6607ac",
   "metadata": {},
   "source": [
    "### 3. Make a list of each Boolean operator truth tables (i.e. every possible combination of Boolean values for the operator and what it evaluate ). \n",
    "\n",
    "**Truth Table**\n"
   ]
  },
  {
   "cell_type": "raw",
   "id": "2380b80c",
   "metadata": {},
   "source": [
    "OR OPERATOR\n",
    "\n",
    "A | B | OUTPUT\n",
    "0 | 0 | 0\n",
    "0 | 1 | 1\n",
    "1 | 0 | 1\n",
    "1 | 1 | 1\n",
    "------------------------\n",
    "AND OPERATOR\n",
    "\n",
    "A | B | OUTPUT\n",
    "0 | 0 | 0\n",
    "0 | 1 | 0\n",
    "1 | 0 | 0\n",
    "1 | 1 | 1\n",
    "------------------------\n",
    "NOT OPERATOR\n",
    "\n",
    "A | OUTPUT\n",
    "0 | 1\n",
    "1 | 0 \n"
   ]
  },
  {
   "cell_type": "markdown",
   "id": "1a4f697d",
   "metadata": {},
   "source": [
    "### 4. What are the values of the following expressions?"
   ]
  },
  {
   "cell_type": "code",
   "execution_count": 12,
   "id": "c9c09322",
   "metadata": {},
   "outputs": [
    {
     "name": "stdout",
     "output_type": "stream",
     "text": [
      "False\n",
      "False\n",
      "True\n",
      "False\n",
      "False\n",
      "True\n"
     ]
    }
   ],
   "source": [
    "print((5 > 4) and (3 == 5))\n",
    "print(not (5 > 4))\n",
    "print((5 > 4) or (3 == 5))\n",
    "print(not ((5 > 4) or (3 == 5)))\n",
    "print((True and True) and (True == False))\n",
    "print((not False) or (not True))"
   ]
  },
  {
   "cell_type": "markdown",
   "id": "38483c47",
   "metadata": {},
   "source": [
    "### 5. What are the six comparison operators?\n",
    "**ANS**    == , != , > , < , >= , <= "
   ]
  },
  {
   "cell_type": "markdown",
   "id": "298d4794",
   "metadata": {},
   "source": [
    "### 6. How do you tell the difference between the equal to and assignment operators?Describe a condition and when you would use one.\n",
    "**ANS**\n",
    "\n",
    "== is equal to operator that compare two value and evaluate boolean where = is assignment operator to store a value in a variable\n",
    "\n"
   ]
  },
  {
   "cell_type": "code",
   "execution_count": 14,
   "id": "047b34dc",
   "metadata": {},
   "outputs": [
    {
     "name": "stdout",
     "output_type": "stream",
     "text": [
      "True\n",
      "False\n",
      "45\n"
     ]
    }
   ],
   "source": [
    "## equal to operator(==)\n",
    "\n",
    "a=3\n",
    "b=4\n",
    "print(a==3)\n",
    "print(a==b)\n",
    "\n",
    "## assignment operator(=)\n",
    "\n",
    "d=45\n",
    "print(d)\n"
   ]
  },
  {
   "cell_type": "markdown",
   "id": "367e6680",
   "metadata": {},
   "source": [
    "### 7. Identify the three blocks in this code:"
   ]
  },
  {
   "cell_type": "code",
   "execution_count": 16,
   "id": "08b2a99c",
   "metadata": {},
   "outputs": [
    {
     "name": "stdout",
     "output_type": "stream",
     "text": [
      "ham\n",
      "spam\n",
      "spam\n"
     ]
    }
   ],
   "source": [
    "spam = 0\n",
    "if spam == 10:\n",
    "    print('eggs') #Block 1\n",
    "if spam > 5:\n",
    "    print('bacon') #Block 2\n",
    "else:\n",
    "    print('ham') #Block 3 and this block will true because spam = 0 above two block condition is not matching then else part will excute\n",
    "    print('spam')\n",
    "    print('spam')"
   ]
  },
  {
   "cell_type": "markdown",
   "id": "8299f791",
   "metadata": {},
   "source": [
    "### 8. Write code that prints Hello if 1 is stored in spam, prints Howdy if 2 is stored in spam, and prints Greetings! if anything else is stored in spam."
   ]
  },
  {
   "cell_type": "code",
   "execution_count": 17,
   "id": "29005e32",
   "metadata": {},
   "outputs": [
    {
     "name": "stdout",
     "output_type": "stream",
     "text": [
      "Enter sapm value 1\n",
      "Hello\n"
     ]
    }
   ],
   "source": [
    "spam=int(input(\"Enter sapm value \"))\n",
    "if spam==1:\n",
    "    print(\"Hello\")\n",
    "elif spam==2:\n",
    "    print(\"Howdy\")\n",
    "else:\n",
    "    print(\"Greeting\")"
   ]
  },
  {
   "cell_type": "markdown",
   "id": "f844a7c8",
   "metadata": {},
   "source": [
    "### 9.If your programme is stuck in an endless loop, what keys you’ll press?\n",
    "**ANS** We press ctrl+C"
   ]
  },
  {
   "cell_type": "markdown",
   "id": "32b585e7",
   "metadata": {},
   "source": [
    "### 10. How can you tell the difference between break and continue?\n",
    "\n",
    "**Break** in break statement the control will be out from the loop and it is used to stop the execution of the loop at a specific condition.\n",
    "**Continue** in cotinue statements the control remains with in the loop and it is used to skip particular iteration of the loop"
   ]
  },
  {
   "cell_type": "code",
   "execution_count": 23,
   "id": "e9622d29",
   "metadata": {},
   "outputs": [
    {
     "name": "stdout",
     "output_type": "stream",
     "text": [
      "Break statement----------\n",
      "0\n",
      "1\n",
      "2\n",
      "3\n",
      "4\n",
      "continue statement----------\n",
      "0\n",
      "1\n",
      "2\n",
      "3\n",
      "4\n",
      "6\n",
      "7\n",
      "8\n",
      "9\n"
     ]
    }
   ],
   "source": [
    "# Break statements\n",
    "print(\"Break statement----------\")\n",
    "for i in range (20):\n",
    "    if i==5:\n",
    "        break\n",
    "    print(i)\n",
    "    \n",
    "# Continue  \n",
    "print(\"continue statement----------\")\n",
    "for i in range (10):\n",
    "    if i==5:\n",
    "        continue\n",
    "    print(i)\n",
    "    "
   ]
  },
  {
   "cell_type": "markdown",
   "id": "84a800cf",
   "metadata": {},
   "source": [
    "### 11. In a for loop, what is the difference between range(10), range(0, 10), and range(0, 10, 1)?"
   ]
  },
  {
   "cell_type": "code",
   "execution_count": 30,
   "id": "7643ae83",
   "metadata": {},
   "outputs": [
    {
     "name": "stdout",
     "output_type": "stream",
     "text": [
      "0\n",
      "1\n",
      "2\n",
      "3\n",
      "4\n",
      "5\n",
      "6\n",
      "7\n",
      "8\n",
      "9\n",
      "------------------\n",
      "0\n",
      "1\n",
      "2\n",
      "3\n",
      "4\n",
      "5\n",
      "6\n",
      "7\n",
      "8\n",
      "9\n",
      "------------------\n",
      "0\n",
      "1\n",
      "2\n",
      "3\n",
      "4\n",
      "5\n",
      "6\n",
      "7\n",
      "8\n",
      "9\n",
      "------------------\n"
     ]
    }
   ],
   "source": [
    "for i in range(10):  # range(10) its means that by default it will print 0 t0 9\n",
    "    print(i)\n",
    "    \n",
    "print(\"------------------\")\n",
    "for i in range(0,10):  # range(0,10) its mean that starting point is 0 to n-1 that is 0 to 9\n",
    "    print(i)\n",
    "    \n",
    "print(\"------------------\")\n",
    "for i in range(0,10,1):  # range(1,10,1) here 0 is starting point 10 mean n-1 ending points and 1 is to add 1 in each iteration\n",
    "    print(i)\n",
    "    \n",
    "print(\"------------------\")"
   ]
  },
  {
   "cell_type": "markdown",
   "id": "88967e31",
   "metadata": {},
   "source": [
    "### 12. Write a short program that prints the numbers 1 to 10 using a for loop. Then write an equivalent program that prints the numbers 1 to 10 using a while loop."
   ]
  },
  {
   "cell_type": "code",
   "execution_count": 35,
   "id": "e9a0dfef",
   "metadata": {},
   "outputs": [
    {
     "name": "stdout",
     "output_type": "stream",
     "text": [
      "FOR LOOP------\n",
      "1\n",
      "2\n",
      "3\n",
      "4\n",
      "5\n",
      "6\n",
      "7\n",
      "8\n",
      "9\n",
      "10\n",
      "WHILE LOOP-----\n",
      "1\n",
      "2\n",
      "3\n",
      "4\n",
      "5\n",
      "6\n",
      "7\n",
      "8\n",
      "9\n",
      "10\n"
     ]
    }
   ],
   "source": [
    "# use for  loop to print 1 to 11\n",
    "print(\"FOR LOOP------\")\n",
    "\n",
    "for i in range (1,11):\n",
    "    print(i)\n",
    "\n",
    "print(\"WHILE LOOP-----\")\n",
    "\n",
    "p=1\n",
    "while p<=10:\n",
    "    print(p)\n",
    "    p=p+1"
   ]
  },
  {
   "cell_type": "markdown",
   "id": "d63dc224",
   "metadata": {},
   "source": [
    "### 13. If you had a function named bacon() inside a module named spam, how would you call it after importing spam?\n",
    "**ANS** we call like **spam.bacon()**"
   ]
  },
  {
   "cell_type": "code",
   "execution_count": null,
   "id": "6b222150",
   "metadata": {},
   "outputs": [],
   "source": []
  }
 ],
 "metadata": {
  "kernelspec": {
   "display_name": "Python 3 (ipykernel)",
   "language": "python",
   "name": "python3"
  },
  "language_info": {
   "codemirror_mode": {
    "name": "ipython",
    "version": 3
   },
   "file_extension": ".py",
   "mimetype": "text/x-python",
   "name": "python",
   "nbconvert_exporter": "python",
   "pygments_lexer": "ipython3",
   "version": "3.9.12"
  }
 },
 "nbformat": 4,
 "nbformat_minor": 5
}
