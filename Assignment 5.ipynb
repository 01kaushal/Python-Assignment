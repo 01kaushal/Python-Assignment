{
 "cells": [
  {
   "cell_type": "markdown",
   "id": "6f182769",
   "metadata": {},
   "source": [
    "### Assignment 5"
   ]
  },
  {
   "cell_type": "markdown",
   "id": "d52bd7cf",
   "metadata": {},
   "source": [
    "#### 1. What does an empty dictionary's code look like?"
   ]
  },
  {
   "cell_type": "code",
   "execution_count": 3,
   "id": "771e4607",
   "metadata": {},
   "outputs": [
    {
     "name": "stdout",
     "output_type": "stream",
     "text": [
      "{}\n"
     ]
    }
   ],
   "source": [
    "dict={} # empty dictinonary\n",
    "print(dict)"
   ]
  },
  {
   "cell_type": "markdown",
   "id": "c20f00c2",
   "metadata": {},
   "source": [
    "#### 2. What is the value of a dictionary value with the key &#39;foo&#39; and the value 42?"
   ]
  },
  {
   "cell_type": "code",
   "execution_count": 4,
   "id": "e00d555c",
   "metadata": {},
   "outputs": [
    {
     "name": "stdout",
     "output_type": "stream",
     "text": [
      "{'foo': 42}\n"
     ]
    }
   ],
   "source": [
    "dict={'foo':42}\n",
    "print(dict)"
   ]
  },
  {
   "cell_type": "markdown",
   "id": "a8e1587f",
   "metadata": {},
   "source": [
    "#### 3. What is the most significant distinction between a dictionary and a list?\n",
    "**List** is ordered collection of data.\n",
    "\n",
    "**dictionary** is unorderd collection of data. in this key value pair are there"
   ]
  },
  {
   "cell_type": "markdown",
   "id": "e05d8280",
   "metadata": {},
   "source": [
    "#### 4. What happens if you try to access spam['foo'] if spam is {'bar': 100}?"
   ]
  },
  {
   "cell_type": "code",
   "execution_count": 5,
   "id": "69c266ee",
   "metadata": {},
   "outputs": [
    {
     "ename": "KeyError",
     "evalue": "'foo'",
     "output_type": "error",
     "traceback": [
      "\u001b[1;31m---------------------------------------------------------------------------\u001b[0m",
      "\u001b[1;31mKeyError\u001b[0m                                  Traceback (most recent call last)",
      "Input \u001b[1;32mIn [5]\u001b[0m, in \u001b[0;36m<cell line: 2>\u001b[1;34m()\u001b[0m\n\u001b[0;32m      1\u001b[0m spam\u001b[38;5;241m=\u001b[39m{\u001b[38;5;124m'\u001b[39m\u001b[38;5;124mbar\u001b[39m\u001b[38;5;124m'\u001b[39m:\u001b[38;5;241m100\u001b[39m}\n\u001b[1;32m----> 2\u001b[0m \u001b[43mspam\u001b[49m\u001b[43m[\u001b[49m\u001b[38;5;124;43m'\u001b[39;49m\u001b[38;5;124;43mfoo\u001b[39;49m\u001b[38;5;124;43m'\u001b[39;49m\u001b[43m]\u001b[49m\n",
      "\u001b[1;31mKeyError\u001b[0m: 'foo'"
     ]
    }
   ],
   "source": [
    "spam={'bar':100}\n",
    "spam['foo']  ## it will give error"
   ]
  },
  {
   "cell_type": "markdown",
   "id": "4dd74159",
   "metadata": {},
   "source": [
    "#### 5. If a dictionary is stored in spam, what is the difference between the expressions 'cat' in spam and 'cat' in spam.keys()?"
   ]
  },
  {
   "cell_type": "code",
   "execution_count": 16,
   "id": "5689c43a",
   "metadata": {},
   "outputs": [
    {
     "data": {
      "text/plain": [
       "True"
      ]
     },
     "execution_count": 16,
     "metadata": {},
     "output_type": "execute_result"
    }
   ],
   "source": [
    "spam={'cat':'2'}\n",
    "'cat' in spam    ## it will return true because cat is present in spam . Here its check that 'cat' is present in spam or not"
   ]
  },
  {
   "cell_type": "code",
   "execution_count": 9,
   "id": "aba4ecfe",
   "metadata": {},
   "outputs": [
    {
     "data": {
      "text/plain": [
       "True"
      ]
     },
     "execution_count": 9,
     "metadata": {},
     "output_type": "execute_result"
    }
   ],
   "source": [
    "'cat' in spam.keys()   # it will return true because 'cat' that key  is present in spam in form of key."
   ]
  },
  {
   "cell_type": "markdown",
   "id": "07439b91",
   "metadata": {},
   "source": [
    "#### 6. If a dictionary is stored in spam, what is the difference between the expressions 'cat' in spam and 'cat' in spam.values()?"
   ]
  },
  {
   "cell_type": "code",
   "execution_count": 12,
   "id": "a2c1156e",
   "metadata": {},
   "outputs": [
    {
     "data": {
      "text/plain": [
       "True"
      ]
     },
     "execution_count": 12,
     "metadata": {},
     "output_type": "execute_result"
    }
   ],
   "source": [
    "'cat' in spam #Here its check that 'cat' is present  in spam or not\n"
   ]
  },
  {
   "cell_type": "code",
   "execution_count": 13,
   "id": "6e00ddef",
   "metadata": {},
   "outputs": [
    {
     "data": {
      "text/plain": [
       "False"
      ]
     },
     "execution_count": 13,
     "metadata": {},
     "output_type": "execute_result"
    }
   ],
   "source": [
    "'cat' in spam.values() # checking that 'cat' value is present in spam or not"
   ]
  },
  {
   "cell_type": "markdown",
   "id": "1d94020d",
   "metadata": {},
   "source": [
    "#### 7. What is a shortcut for the following code?\n",
    "if 'color' not in spam:\n",
    "\n",
    "spam 'color' = 'black'"
   ]
  },
  {
   "cell_type": "code",
   "execution_count": 17,
   "id": "64a5a233",
   "metadata": {},
   "outputs": [
    {
     "data": {
      "text/plain": [
       "{'cat': '2', 'color': 'black'}"
      ]
     },
     "execution_count": 17,
     "metadata": {},
     "output_type": "execute_result"
    }
   ],
   "source": [
    "spam.setdefault('color','black')\n",
    "spam"
   ]
  },
  {
   "cell_type": "markdown",
   "id": "d4ed1174",
   "metadata": {},
   "source": [
    "#### 8. How do you \"pretty print\" dictionary values using which module and function?"
   ]
  },
  {
   "cell_type": "code",
   "execution_count": 21,
   "id": "c52f0b4f",
   "metadata": {},
   "outputs": [
    {
     "name": "stdout",
     "output_type": "stream",
     "text": [
      "{'class_attended': [{'deep learning', 'stats', 'machine learning'}],\n",
      " 'name': 'kaushal',\n",
      " 'serial_no': 65}\n"
     ]
    }
   ],
   "source": [
    "# We first import the pprint module \n",
    "import pprint\n",
    "\n",
    "# test dictionary\n",
    "test_dict = {\n",
    "    'serial_no': 65,\n",
    "    'name': 'kaushal',\n",
    "    'class_attended': [{ 'machine learning', 'stats', 'deep learning'}]\n",
    "}\n",
    "\n",
    "pretty = pprint.pprint(test_dict)"
   ]
  },
  {
   "cell_type": "code",
   "execution_count": null,
   "id": "b9ed64d2",
   "metadata": {},
   "outputs": [],
   "source": []
  }
 ],
 "metadata": {
  "kernelspec": {
   "display_name": "Python 3 (ipykernel)",
   "language": "python",
   "name": "python3"
  },
  "language_info": {
   "codemirror_mode": {
    "name": "ipython",
    "version": 3
   },
   "file_extension": ".py",
   "mimetype": "text/x-python",
   "name": "python",
   "nbconvert_exporter": "python",
   "pygments_lexer": "ipython3",
   "version": "3.9.12"
  }
 },
 "nbformat": 4,
 "nbformat_minor": 5
}
