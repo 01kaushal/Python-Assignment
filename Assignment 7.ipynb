{
 "cells": [
  {
   "cell_type": "markdown",
   "id": "278437b5",
   "metadata": {},
   "source": [
    "#### Q.1. Create two int type variables, apply addition, subtraction, division and multiplications and store the results in variables. Then print the data in the following format by calling the variables:\n",
    "First variable is __ & second variable is __.\n",
    "\n",
    "Addition: __ + __ = __\n",
    "\n",
    "Subtraction: __ - __ = __\n",
    "\n",
    "Multiplication: __ * __ = __\n",
    "\n",
    "Division: __ / __ = __"
   ]
  },
  {
   "cell_type": "code",
   "execution_count": 6,
   "id": "fda39201",
   "metadata": {},
   "outputs": [
    {
     "name": "stdout",
     "output_type": "stream",
     "text": [
      "Addition: 15\n",
      "Subtraction: 5\n",
      "Multiplication: 50\n",
      "Division: 2.0\n"
     ]
    }
   ],
   "source": [
    "\n",
    "a=10\n",
    "b=5\n",
    "add=a+b\n",
    "sub=a-b\n",
    "mul=a*b\n",
    "div=a/b\n",
    "print(\"Addition:\" , a+b)\n",
    "print(\"Subtraction:\" , a-b)\n",
    "print(\"Multiplication:\" , a*b)\n",
    "print(\"Division:\" , a/b)"
   ]
  },
  {
   "cell_type": "markdown",
   "id": "9c0a225d",
   "metadata": {},
   "source": [
    "#### Q.2. What is the difference between the following operators:\n",
    "(i) ‘/’ & ‘//’\n",
    "\n",
    "(ii) ‘**’ & ‘^’"
   ]
  },
  {
   "cell_type": "code",
   "execution_count": 22,
   "id": "89948cab",
   "metadata": {},
   "outputs": [
    {
     "name": "stdout",
     "output_type": "stream",
     "text": [
      " using this '/' operator division:  1.5\n",
      " using this '//' operator division:  1\n",
      "-------------------------------------------\n",
      "9\n"
     ]
    },
    {
     "data": {
      "text/plain": [
       "0"
      ]
     },
     "execution_count": 22,
     "metadata": {},
     "output_type": "execute_result"
    }
   ],
   "source": [
    "#(i) ‘/’ & ‘//’\n",
    "a=3\n",
    "b=2\n",
    "print(\" using this '/' operator division: \",a/b) # it divide a/b is consider decimal value\n",
    "print(\" using this '//' operator division: \",a//b) # it is consider only integer value or divide floor value\n",
    "print(\"-------------------------------------------\")\n",
    "\n",
    "#(ii) ‘**’ & ‘^’\n",
    " \n",
    "c=a**2 # is a square operator\n",
    "print(c)\n",
    "c=1^1  # bitwise XOR operator\n",
    "\n",
    "c"
   ]
  },
  {
   "cell_type": "markdown",
   "id": "45c0db6d",
   "metadata": {},
   "source": [
    "#### Q.3. List the logical operators.\n",
    "AND\n",
    "\n",
    "OR \n",
    "\n",
    "NOT"
   ]
  },
  {
   "cell_type": "markdown",
   "id": "f6e862fa",
   "metadata": {},
   "source": [
    "#### Q.4. Explain right shift operator and left shift operator with examples."
   ]
  },
  {
   "cell_type": "code",
   "execution_count": 24,
   "id": "0559c1b4",
   "metadata": {},
   "outputs": [
    {
     "name": "stdout",
     "output_type": "stream",
     "text": [
      "a >> 1 = 7\n",
      "b >> 1 = -5\n",
      "a << 1 = 10\n",
      "b << 1 = -20\n"
     ]
    }
   ],
   "source": [
    "\n",
    "# Python program to show\n",
    "# shift operators\n",
    " \n",
    "a = 15\n",
    "b = -10\n",
    " \n",
    "# print bitwise right shift operator \n",
    "# shift the bit of number to the rihgt and fills 0 on voids left as a result\n",
    "print(\"a >> 1 =\", a >> 1)\n",
    "print(\"b >> 1 =\", b >> 1)\n",
    " \n",
    "a = 5\n",
    "b = -10\n",
    " \n",
    "# print bitwise left shift operator\n",
    "# shift the bit of number to the left and fills 0 on voids right as a result\n",
    "print(\"a << 1 =\", a << 1)\n",
    "print(\"b << 1 =\", b << 1)"
   ]
  },
  {
   "cell_type": "markdown",
   "id": "e83b75ae",
   "metadata": {},
   "source": [
    "#### Q.5. Create a list containing int type data of length 15. Then write a code to check if 10 is present in the list or not."
   ]
  },
  {
   "cell_type": "code",
   "execution_count": 28,
   "id": "0ebf7227",
   "metadata": {},
   "outputs": [
    {
     "name": "stdout",
     "output_type": "stream",
     "text": [
      "present\n"
     ]
    }
   ],
   "source": [
    "lst=[ 1, 6, 3, 5, 3, 4,10,11,12,12,15,13, 23,45,34] \n",
    "#checking if element 10 is present\n",
    "# in the given list or not\n",
    "i=10\n",
    "\n",
    "if i in lst: \n",
    "    print(\"present\") \n",
    "else: \n",
    "    print(\"Not present\")"
   ]
  },
  {
   "cell_type": "code",
   "execution_count": null,
   "id": "65fd5c9f",
   "metadata": {},
   "outputs": [],
   "source": []
  }
 ],
 "metadata": {
  "kernelspec": {
   "display_name": "Python 3 (ipykernel)",
   "language": "python",
   "name": "python3"
  },
  "language_info": {
   "codemirror_mode": {
    "name": "ipython",
    "version": 3
   },
   "file_extension": ".py",
   "mimetype": "text/x-python",
   "name": "python",
   "nbconvert_exporter": "python",
   "pygments_lexer": "ipython3",
   "version": "3.9.12"
  }
 },
 "nbformat": 4,
 "nbformat_minor": 5
}
