{
 "cells": [
  {
   "cell_type": "markdown",
   "id": "cf372ea3",
   "metadata": {},
   "source": [
    "#### 1. What is the role of the 'else' block in a try-except statement? Provide an example scenario where it would be useful.\n",
    "else block is excuted that means there is no exceptions occure in try-excepet block."
   ]
  },
  {
   "cell_type": "code",
   "execution_count": 1,
   "id": "d3b64e5d",
   "metadata": {},
   "outputs": [
    {
     "name": "stdout",
     "output_type": "stream",
     "text": [
      "Your answer is : 2\n",
      "Your answer is : 1\n"
     ]
    }
   ],
   "source": [
    "\n",
    "#  working of try()  \n",
    "def divide(x, y): \n",
    "    try: \n",
    "        # Floor Division will Gives only Fractional of the answer\n",
    "       \n",
    "        result = x // y \n",
    "    except ZeroDivisionError: \n",
    "        print(\"You are dividing by zero \") \n",
    "    else:\n",
    "        print(\"Your answer is :\", result)  ## else block is exccuted .\n",
    "#parameters\n",
    "divide(4, 2) \n",
    "divide(3, 3)"
   ]
  },
  {
   "cell_type": "markdown",
   "id": "d2ef83c3",
   "metadata": {},
   "source": [
    "#### 2. Can a try-except block be nested inside another try-except block? Explain with an example.\n",
    "Yes it is possible that try-except block be nested inside another try-except.if an exception is raised in the nested try block, the nested except block is used to handle it."
   ]
  },
  {
   "cell_type": "code",
   "execution_count": 8,
   "id": "92fd8af8",
   "metadata": {},
   "outputs": [
    {
     "name": "stdout",
     "output_type": "stream",
     "text": [
      "This is outer try block\n",
      "inside inner finally block\n",
      "Divivsion by 0\n",
      "outer loop\n"
     ]
    }
   ],
   "source": [
    "\n",
    "\n",
    "a=1\n",
    "b=0\n",
    "\n",
    "try:\n",
    "    print(\"This is outer try block\")\n",
    "    try:\n",
    "        print(a/b)\n",
    "        \n",
    "    except KeyError:\n",
    "        print(Error)\n",
    "    finally:\n",
    "        print(\"inside inner finally block\")\n",
    "        \n",
    "except ZeroDivisionError:\n",
    "    print(\"Divivsion by 0\")\n",
    "    \n",
    "finally:\n",
    "    print(\"outer loop\")\n",
    "        \n",
    "        \n",
    "    "
   ]
  },
  {
   "cell_type": "markdown",
   "id": "fc6dae53",
   "metadata": {},
   "source": [
    "#### 3. How can you create a custom exception class in Python? Provide an example that demonstrates its usage.\n",
    "When we are developing a large Python program, it is a good practice to place all the user-defined exceptions that our program raises in a separate file.\n",
    "\n",
    "Many standard modules define their exceptions separately as **exceptions.py or errors.py**(generally but not always).\n",
    "\n",
    "**class CustomError(Exception):**\n",
    "\n",
    "    ...\n",
    "    pass\n",
    "\n",
    "**try:**\n",
    "   \n",
    "   ...\n",
    "\n",
    "\n",
    "**except CustomError:**\n",
    "\n",
    "    ......"
   ]
  },
  {
   "cell_type": "code",
   "execution_count": 11,
   "id": "daeee308",
   "metadata": {},
   "outputs": [
    {
     "name": "stdout",
     "output_type": "stream",
     "text": [
      "Enter a number: 23\n",
      " Person is eligible to Vote\n"
     ]
    }
   ],
   "source": [
    "# user-defined exceptions\n",
    "class InvalidAgeException(Exception):\n",
    "    \" Exception will occure when the input value is less than 18\"\n",
    "    pass\n",
    "\n",
    "\n",
    "number = 18\n",
    "\n",
    "try:\n",
    "    input_num = int(input(\"Enter a number: \"))\n",
    "    if input_num < number:\n",
    "        raise InvalidAgeException\n",
    "    else:\n",
    "        print(\" Person is eligible to Vote\")\n",
    "        \n",
    "except InvalidAgeException:\n",
    "    print(\"Not is eligible to Vote\")"
   ]
  },
  {
   "cell_type": "markdown",
   "id": "5df8d5d7",
   "metadata": {},
   "source": [
    "#### 4. What are some common exceptions that are built-in to Python?\n",
    "\n",
    "ArithmeticError\t\n",
    "\n",
    "AssertionError\t\n",
    "\n",
    "AttributeError\t\n",
    "\n",
    "Exception\t\n",
    "\n",
    "EOFError\n",
    "\n",
    "FloatingPointError\t\n",
    "\n",
    "GeneratorExit\t\n",
    "\n",
    "ImportError\t\n",
    "\n",
    "IndentationError\t\n",
    "\n",
    "IndexError\t\n",
    "\n",
    "KeyError\n",
    "\n",
    "KeyboardInterrupt\t\n",
    "\n",
    "LookupError\t\n",
    "\n",
    "MemoryError\t\n",
    "\n",
    "NameError\t\n",
    "\n",
    "NotImplementedError\t\n",
    "\n",
    "OSError"
   ]
  },
  {
   "cell_type": "markdown",
   "id": "b97bf8b6",
   "metadata": {},
   "source": [
    "#### 5. What is logging in Python, and why is it important in software development?\n",
    "Python logging is a module that allows  to track events that occur while our program is running. we can use logging to record information about errors, warnings, and other events that occur during program execution. And logging is a useful tool for debugging, troubleshooting, and monitoring your program"
   ]
  },
  {
   "cell_type": "markdown",
   "id": "a5050c2b",
   "metadata": {},
   "source": [
    "#### 6. Explain the purpose of log levels in Python logging and provide examples of when each log level would be appropriate.\n",
    "Logging is a technique for monitoring events that take place when some software is in use.\n",
    "The log level corresponds to the “importance” a log is given: an “error” log should be more urgent then than the “warn” log, whereas a “debug” log should be useful only when debugging the application.\n",
    "\n",
    "\n",
    "Warn — Includes information on potentially harmful situations; including other run-time situations that are undesirable or unexpected, but not necessarily \"wrong\"."
   ]
  },
  {
   "cell_type": "code",
   "execution_count": 12,
   "id": "ebd7e37d",
   "metadata": {},
   "outputs": [
    {
     "name": "stderr",
     "output_type": "stream",
     "text": [
      "DEBUG:root:This is a debug message\n",
      "INFO:root:This is an info message\n",
      "WARNING:root:This is a warning message\n",
      "ERROR:root:This is an error message\n",
      "CRITICAL:root:This is a critical message\n"
     ]
    }
   ],
   "source": [
    "\n",
    "import logging\n",
    "\n",
    "\n",
    "logging.basicConfig(level=logging.DEBUG)\n",
    "\n",
    "logging.debug('This is a debug message')\n",
    "logging.info('This is an info message')\n",
    "logging.warning('This is a warning message')\n",
    "logging.error('This is an error message')\n",
    "logging.critical('This is a critical message')"
   ]
  },
  {
   "cell_type": "markdown",
   "id": "9925e05f",
   "metadata": {},
   "source": [
    "#### 7. What are log formatters in Python logging, and how can you customise the log message format using formatters?\n",
    "There are six levels for logging in Python each level is associated with an integer that indicates the log severity: NOTSET=0, DEBUG=10, INFO=20, WARN=30, ERROR=40, and CRITICAL=50. All the levels are rather straightforward (DEBUG < INFO < WARN ) except NOTSET, whose particularity will be addressed next.\n",
    "\n",
    "\n",
    "Loggers expose the interface that application code directly uses. Handlers send the log records (created by loggers) to the appropriate destination. Filters provide a finer grained facility for determining which log records to output. Formatters specify the layout of log records in the final output."
   ]
  },
  {
   "cell_type": "markdown",
   "id": "3fa778f0",
   "metadata": {},
   "source": [
    "#### 8.How can you set up logging to capture log messages from multiple modules or classes in a Python application?"
   ]
  },
  {
   "cell_type": "code",
   "execution_count": 15,
   "id": "a42c5eaa",
   "metadata": {},
   "outputs": [
    {
     "name": "stderr",
     "output_type": "stream",
     "text": [
      "DEBUG:root:Variables are 1 and 2\n"
     ]
    },
    {
     "data": {
      "text/plain": [
       "3"
      ]
     },
     "execution_count": 15,
     "metadata": {},
     "output_type": "execute_result"
    }
   ],
   "source": [
    "import logging\n",
    "\n",
    "logging.basicConfig(level=logging.DEBUG)\n",
    "\n",
    "def add(x, y):\n",
    "    logging.debug('Variables are %s and %s', x, y)\n",
    "    return x + y\n",
    "\n",
    "add(1, 2)"
   ]
  },
  {
   "cell_type": "markdown",
   "id": "8fb77076",
   "metadata": {},
   "source": [
    "#### 9. What is the difference between the logging and print statements in Python? When should you use logging over print statements in a real-world application?\n",
    "Some programmers utilise the idea of \"Printing\" the statements to check whether they were correctly performed or if an error had occurred.\n",
    "\n",
    "However, printing is not a smart move. For basic scripts, it might be the answer to your problems, however the printing solution will fall short for complex programmes.\n",
    "\n",
    "A built-in Python package called logging enables publishing status messages to files or other output streams. The file may provide details about which portion of the code is run and any issues that have come up."
   ]
  },
  {
   "cell_type": "markdown",
   "id": "9479d19d",
   "metadata": {},
   "source": [
    "#### 10. Write a Python program that logs a message to a file named \"app.log\" with the\n",
    "following requirements:\n",
    "\n",
    "● The log message should be \"Hello, World!\"\n",
    "\n",
    "● The log level should be set to \"INFO.\"\n",
    "\n",
    "● The log file should append new log entries without overwriting previous ones."
   ]
  },
  {
   "cell_type": "code",
   "execution_count": 29,
   "id": "d484a8dc",
   "metadata": {},
   "outputs": [
    {
     "name": "stderr",
     "output_type": "stream",
     "text": [
      "INFO:root:Hello,World!\n"
     ]
    }
   ],
   "source": [
    "import os\n",
    "import logging\n",
    "\n",
    "\n",
    "dir_path = r'C:\\Users\\456ka\\Desktop\\assignment'\n",
    "addfile=[]\n",
    "\n",
    "log_file = 'app.log'\n",
    "addfile.append(log_file) # The log file should append new log entries without overwriting previous ones.\n",
    "full_path = os.path.join(dir_path, log_file)\n",
    "os.makedirs(dir_path, exist_ok=True)\n",
    "\n",
    "logger = logging.getLogger()\n",
    "logger.setLevel(logging.INFO)\n",
    "\n",
    "# Create a FileHandler instance to write logs to a file\n",
    "handler = logging.FileHandler(full_path)\n",
    "handler.setFormatter(logging.Formatter('%(asctime)s:%(levelname)s:%(message)s'))\n",
    "\n",
    "\n",
    "logger.addHandler(handler)\n",
    "\n",
    "\n",
    "def print1(sys):\n",
    "    if sys != 'OK':\n",
    "        logging.info(sys)\n",
    "\n",
    "print1('Hello,World!')\n",
    "handler.close()\n"
   ]
  },
  {
   "cell_type": "code",
   "execution_count": 28,
   "id": "0f4eb803",
   "metadata": {},
   "outputs": [
    {
     "data": {
      "text/plain": [
       "['app.log']"
      ]
     },
     "execution_count": 28,
     "metadata": {},
     "output_type": "execute_result"
    }
   ],
   "source": [
    "addfile"
   ]
  },
  {
   "cell_type": "markdown",
   "id": "da5d03d6",
   "metadata": {},
   "source": [
    "#### 11. Create a Python program that logs an error message to the console and a file named \"errors.log\" if an exception occurs during the program's execution. The error message should include the exception type and a timestamp."
   ]
  },
  {
   "cell_type": "code",
   "execution_count": 34,
   "id": "7670b003",
   "metadata": {},
   "outputs": [
    {
     "name": "stderr",
     "output_type": "stream",
     "text": [
      "INFO:root:System failure: error\n"
     ]
    }
   ],
   "source": [
    "import os\n",
    "import logging\n",
    "\n",
    "\n",
    "dir_path = r'C:\\Users\\456ka\\Desktop\\assignment'\n",
    "addfile=[]\n",
    "\n",
    "log_file = 'error.log'\n",
    "addfile.append(log_file) # The log file should append new log entries without overwriting previous ones.\n",
    "full_path = os.path.join(dir_path, log_file)\n",
    "os.makedirs(dir_path, exist_ok=True)\n",
    "\n",
    "logger = logging.getLogger()\n",
    "logger.setLevel(logging.INFO)\n",
    "\n",
    "# Create a FileHandler instance to write logs to a file\n",
    "handler = logging.FileHandler(full_path)\n",
    "handler.setFormatter(logging.Formatter('%(asctime)s:%(levelname)s:%(message)s'))\n",
    "\n",
    "\n",
    "logger.addHandler(handler)\n",
    "\n",
    "\n",
    "\n",
    "def print1(sys):\n",
    "    if sys != 'OK':\n",
    "        logging.info('System failure: %s',sys)\n",
    "\n",
    "print1('error')\n",
    "handler.close()"
   ]
  },
  {
   "cell_type": "code",
   "execution_count": null,
   "id": "3326fa49",
   "metadata": {},
   "outputs": [],
   "source": []
  }
 ],
 "metadata": {
  "kernelspec": {
   "display_name": "Python 3 (ipykernel)",
   "language": "python",
   "name": "python3"
  },
  "language_info": {
   "codemirror_mode": {
    "name": "ipython",
    "version": 3
   },
   "file_extension": ".py",
   "mimetype": "text/x-python",
   "name": "python",
   "nbconvert_exporter": "python",
   "pygments_lexer": "ipython3",
   "version": "3.9.12"
  }
 },
 "nbformat": 4,
 "nbformat_minor": 5
}
