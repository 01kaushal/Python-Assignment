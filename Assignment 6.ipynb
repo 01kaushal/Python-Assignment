{
 "cells": [
  {
   "cell_type": "markdown",
   "id": "68bf2825",
   "metadata": {},
   "source": [
    "#### Q.1. What are keywords in python? Using the keyword library, print all the python keywords."
   ]
  },
  {
   "cell_type": "code",
   "execution_count": 1,
   "id": "94ca26c9",
   "metadata": {},
   "outputs": [
    {
     "name": "stdout",
     "output_type": "stream",
     "text": [
      "['False', 'None', 'True', '__peg_parser__', 'and', 'as', 'assert', 'async', 'await', 'break', 'class', 'continue', 'def', 'del', 'elif', 'else', 'except', 'finally', 'for', 'from', 'global', 'if', 'import', 'in', 'is', 'lambda', 'nonlocal', 'not', 'or', 'pass', 'raise', 'return', 'try', 'while', 'with', 'yield']\n"
     ]
    }
   ],
   "source": [
    "import keyword \n",
    "print(keyword.kwlist)"
   ]
  },
  {
   "cell_type": "markdown",
   "id": "6ae0e18c",
   "metadata": {},
   "source": [
    "#### Q.2. What are the rules to create variables in python?\n",
    "**Rules**\n",
    "\n",
    "A variable in python must be start with letter or the underscore character.\n",
    "\n",
    "A variable can not start with digit.\n",
    "\n",
    "The reserved word can not use for nameing of variable.\n",
    "\n",
    "variable in python names are case-sensitive.\n",
    "\n",
    "A python variable name can only contain alpha-numeric character and underscores."
   ]
  },
  {
   "cell_type": "markdown",
   "id": "e09afc99",
   "metadata": {},
   "source": [
    "#### Q.3. What are the standards and conventions followed for the nomenclature of variables in python to improve code readability and maintainability?\n",
    "For variable name it always good to write in lowecase\n",
    "\n",
    "we can mention during name of variable underscore as a separator while naming a multi-word instance variable.\n"
   ]
  },
  {
   "cell_type": "code",
   "execution_count": null,
   "id": "f278715f",
   "metadata": {},
   "outputs": [],
   "source": [
    "digit=3\n",
    "d_1=3\n"
   ]
  },
  {
   "cell_type": "markdown",
   "id": "d760eff7",
   "metadata": {},
   "source": [
    "#### Q.4. What will happen if a keyword is used as a variable name?\n",
    "It will show error"
   ]
  },
  {
   "cell_type": "code",
   "execution_count": 2,
   "id": "2e2242b0",
   "metadata": {},
   "outputs": [
    {
     "ename": "SyntaxError",
     "evalue": "cannot assign to False (375691362.py, line 1)",
     "output_type": "error",
     "traceback": [
      "\u001b[1;36m  Input \u001b[1;32mIn [2]\u001b[1;36m\u001b[0m\n\u001b[1;33m    False=1\u001b[0m\n\u001b[1;37m    ^\u001b[0m\n\u001b[1;31mSyntaxError\u001b[0m\u001b[1;31m:\u001b[0m cannot assign to False\n"
     ]
    }
   ],
   "source": [
    "False=1 # False is keyword so it will give error"
   ]
  },
  {
   "cell_type": "markdown",
   "id": "34fc25bb",
   "metadata": {},
   "source": [
    "#### Q.5. For what purpose def keyword is used?\n",
    "def is used to create a function"
   ]
  },
  {
   "cell_type": "code",
   "execution_count": 3,
   "id": "150acdc0",
   "metadata": {},
   "outputs": [
    {
     "name": "stdout",
     "output_type": "stream",
     "text": [
      "Kaushal\n"
     ]
    }
   ],
   "source": [
    "def name():\n",
    "    print(\"Kaushal\")\n",
    "    \n",
    "name()"
   ]
  },
  {
   "cell_type": "markdown",
   "id": "c196bc4c",
   "metadata": {},
   "source": [
    "#### Q.6. What is the operation of this special character ‘\\’?\n",
    "the special character  ‘\\’ it is used: \"\\t\" is a tab, \"\\n\" is a newline, and \"\\r\" is a carriage return."
   ]
  },
  {
   "cell_type": "markdown",
   "id": "3d333c74",
   "metadata": {},
   "source": [
    "#### Q.7. Give an example of the following conditions:\n",
    "(i) Homogeneous list\n",
    "\n",
    "(ii) Heterogeneous set\n",
    "\n",
    "(iii) Homogeneous tuple"
   ]
  },
  {
   "cell_type": "code",
   "execution_count": 114,
   "id": "e6712906",
   "metadata": {},
   "outputs": [
    {
     "name": "stdout",
     "output_type": "stream",
     "text": [
      "Homogeneouse list [1, 2, 3, 4, 5]\n",
      "Heterogeneous set {'kaumar', 1, 3, 'kumar'}\n",
      "Homogeneous tuple (1, 2, 399, 6, 23)\n"
     ]
    }
   ],
   "source": [
    "# Homogeneouse list\n",
    "#Homogeneous means that it only contains a single type of data\n",
    "list1=[1,2,3,4,5]\n",
    "print(\"Homogeneouse list\",list1)\n",
    "\n",
    "# Heterogeneous set\n",
    "\n",
    "set1={'kaumar',1,3,\"kumar\"}\n",
    "print(\"Heterogeneous set\",set1)\n",
    "\n",
    "# Homogeneous tuple\n",
    "t1=(1,2,399,6,23)\n",
    "print(\"Homogeneous tuple\",t1)"
   ]
  },
  {
   "cell_type": "markdown",
   "id": "71e1f613",
   "metadata": {},
   "source": [
    "#### Q.8. Explain the mutable and immutable data types with proper explanation & examples.\n",
    "**Mutable** in mutable data type we can change , update or modified after the data type has been created. example- List, dictionaries and sets\n",
    "\n",
    "**immutable** In immutable data type we can not change , update or modified after the data type after created. Example- int, float, string, frozen set, tuple etc"
   ]
  },
  {
   "cell_type": "code",
   "execution_count": 9,
   "id": "92509125",
   "metadata": {},
   "outputs": [
    {
     "data": {
      "text/plain": [
       "[1, 2, 3, 'kaushal', 'Kumar']"
      ]
     },
     "execution_count": 9,
     "metadata": {},
     "output_type": "execute_result"
    }
   ],
   "source": [
    "# mutable data type like list\n",
    "list1=[1,2,3,\"kaushal\",\"name\"]\n",
    "list1[4]=\"Kumar\"    # name changed to kumar\n",
    "list1"
   ]
  },
  {
   "cell_type": "code",
   "execution_count": 111,
   "id": "0143dfe1",
   "metadata": {},
   "outputs": [
    {
     "ename": "TypeError",
     "evalue": "'tuple' object does not support item assignment",
     "output_type": "error",
     "traceback": [
      "\u001b[1;31m---------------------------------------------------------------------------\u001b[0m",
      "\u001b[1;31mTypeError\u001b[0m                                 Traceback (most recent call last)",
      "Input \u001b[1;32mIn [111]\u001b[0m, in \u001b[0;36m<cell line: 4>\u001b[1;34m()\u001b[0m\n\u001b[0;32m      1\u001b[0m \u001b[38;5;66;03m# immutable can not be modified\u001b[39;00m\n\u001b[0;32m      3\u001b[0m t1\u001b[38;5;241m=\u001b[39m(\u001b[38;5;241m2\u001b[39m,\u001b[38;5;241m3\u001b[39m,\u001b[38;5;241m5\u001b[39m,\u001b[38;5;241m7\u001b[39m)\n\u001b[1;32m----> 4\u001b[0m t1[\u001b[38;5;241m2\u001b[39m]\u001b[38;5;241m=\u001b[39m\u001b[38;5;124m'\u001b[39m\u001b[38;5;124m3\u001b[39m\u001b[38;5;124m'\u001b[39m\n",
      "\u001b[1;31mTypeError\u001b[0m: 'tuple' object does not support item assignment"
     ]
    }
   ],
   "source": [
    "# immutable can not be modified\n",
    "\n",
    "t1=(2,3,5,7)\n",
    "t1[2]='3'  ## can not be changed\n"
   ]
  },
  {
   "cell_type": "markdown",
   "id": "2ce03e84",
   "metadata": {},
   "source": [
    "#### Q.9. Write a code to create the given structure using only for loop."
   ]
  },
  {
   "cell_type": "code",
   "execution_count": 109,
   "id": "59969cb4",
   "metadata": {},
   "outputs": [
    {
     "name": "stdout",
     "output_type": "stream",
     "text": [
      "    * \r\n",
      "   * * \r\n",
      "  * * * \r\n",
      " * * * * \r\n",
      "* * * * * \r\n"
     ]
    }
   ],
   "source": [
    "def pyramid(n):\n",
    "     \n",
    "    # number of spaces\n",
    "    p = n - 1\n",
    " \n",
    "    # outer loop to handle number of rows\n",
    "    for i in range(0, n):\n",
    "     \n",
    "        # inner loop to handle number spaces\n",
    "        # value will changed accourding to requirement\n",
    "        for j in range(0, p):\n",
    "            print(end=\" \")\n",
    "     \n",
    "        # decrementing p after each loop\n",
    "        p = p - 1\n",
    "     \n",
    "        # inner loop to handle number of columns\n",
    "        # values changing accourding to outer loop\n",
    "        for j in range(0, i+1):\n",
    "         \n",
    "            # printing stars\n",
    "            print(\"* \", end=\"\")\n",
    "     \n",
    "        # ending line after each row\n",
    "        print(\"\\r\")\n",
    " \n",
    "\n",
    "n = 5\n",
    "pyramid(n)"
   ]
  },
  {
   "cell_type": "markdown",
   "id": "d766bc49",
   "metadata": {},
   "source": [
    "#### Q.10. Write a code to create the given structure using while loop.\n",
    "\n",
    "|||||||||\n",
    "\n",
    "|||||||\n",
    "\n",
    "|||||\n",
    "\n",
    "|||\n",
    "\n",
    "|"
   ]
  },
  {
   "cell_type": "code",
   "execution_count": 108,
   "id": "3a17adc2",
   "metadata": {},
   "outputs": [
    {
     "name": "stdout",
     "output_type": "stream",
     "text": [
      "|||||||||\r\n",
      "|||||||\r\n",
      "|||||\r\n",
      "|||\r\n",
      "|\r\n"
     ]
    }
   ],
   "source": [
    " n = 9\n",
    "\n",
    "\n",
    "\n",
    "for k in range(n, 0, -2):\n",
    "    \n",
    "    \n",
    "    for m in range(0,k):\n",
    "\n",
    "        print(\"|\", end='')\n",
    "        \n",
    "\n",
    "    print(\"\\r\")\n",
    "    \n",
    "    "
   ]
  },
  {
   "cell_type": "code",
   "execution_count": null,
   "id": "1b813b60",
   "metadata": {},
   "outputs": [],
   "source": []
  },
  {
   "cell_type": "code",
   "execution_count": null,
   "id": "ae28233d",
   "metadata": {},
   "outputs": [],
   "source": []
  }
 ],
 "metadata": {
  "kernelspec": {
   "display_name": "Python 3 (ipykernel)",
   "language": "python",
   "name": "python3"
  },
  "language_info": {
   "codemirror_mode": {
    "name": "ipython",
    "version": 3
   },
   "file_extension": ".py",
   "mimetype": "text/x-python",
   "name": "python",
   "nbconvert_exporter": "python",
   "pygments_lexer": "ipython3",
   "version": "3.9.12"
  }
 },
 "nbformat": 4,
 "nbformat_minor": 5
}
